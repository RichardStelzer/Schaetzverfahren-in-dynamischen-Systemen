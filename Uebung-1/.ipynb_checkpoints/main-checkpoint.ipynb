{
 "cells": [
  {
   "cell_type": "markdown",
   "metadata": {},
   "source": [
    "Parameter einlesen"
   ]
  },
  {
   "cell_type": "code",
   "execution_count": 1,
   "metadata": {},
   "outputs": [],
   "source": [
    "import numpy as np\n",
    "from numpy.linalg import inv\n",
    "import matplotlib.pyplot as plt"
   ]
  },
  {
   "cell_type": "code",
   "execution_count": 19,
   "metadata": {
    "scrolled": true
   },
   "outputs": [
    {
     "name": "stdout",
     "output_type": "stream",
     "text": [
      "[[ 1.   2.9  4.   5.   7.2  8.7]\n",
      " [ 2.   3.   3.7  5.2  7.2  9.2]\n",
      " [ 3.   3.   4.   5.   7.1  8.9]\n",
      " [ 4.   3.   3.9  5.   7.1  9.1]\n",
      " [ 5.   2.9  3.9  5.   7.3  9. ]\n",
      " [ 6.   2.9  3.9  4.9  7.2  8.6]\n",
      " [ 7.   3.1  4.   5.1  7.2  9.2]\n",
      " [ 8.   2.9  4.   5.   6.9  9. ]\n",
      " [ 9.   3.   4.   5.1  7.2  9.3]\n",
      " [10.   2.9  4.1  5.1  6.6  9.1]\n",
      " [11.   3.   4.2  5.   7.3  9. ]]\n"
     ]
    }
   ],
   "source": [
    "input = np.loadtxt(\"ue01_bsp1.txt\")\n",
    "print(input)"
   ]
  },
  {
   "cell_type": "code",
   "execution_count": null,
   "metadata": {},
   "outputs": [],
   "source": []
  }
 ],
 "metadata": {
  "kernelspec": {
   "display_name": "Python 3",
   "language": "python",
   "name": "python3"
  },
  "language_info": {
   "codemirror_mode": {
    "name": "ipython",
    "version": 3
   },
   "file_extension": ".py",
   "mimetype": "text/x-python",
   "name": "python",
   "nbconvert_exporter": "python",
   "pygments_lexer": "ipython3",
   "version": "3.7.0"
  }
 },
 "nbformat": 4,
 "nbformat_minor": 2
}
