{
 "cells": [
  {
   "cell_type": "markdown",
   "metadata": {},
   "source": [
    "# Schätzverfahren in dynamischen Systemen - Übung 1"
   ]
  },
  {
   "cell_type": "markdown",
   "metadata": {},
   "source": [
    "__Python-Bibliotheken__ einlesen:"
   ]
  },
  {
   "cell_type": "code",
   "execution_count": 273,
   "metadata": {
    "scrolled": false
   },
   "outputs": [],
   "source": [
    "import numpy as np\n",
    "import pandas as pd\n",
    "from numpy.linalg import inv\n",
    "from numpy.linalg import matrix_rank\n",
    "import matplotlib.pyplot as plt\n",
    "from IPython.display import display, Math\n",
    "np.set_printoptions(precision=4)\n"
   ]
  },
  {
   "cell_type": "markdown",
   "metadata": {},
   "source": [
    "<a id=\"Aufgabe-1\"></a>\n",
    "## Aufgabe 1:"
   ]
  },
  {
   "cell_type": "markdown",
   "metadata": {},
   "source": [
    "Unkorellierte Beobachtungen einlesen:\n",
    "***"
   ]
  },
  {
   "cell_type": "code",
   "execution_count": 274,
   "metadata": {
    "scrolled": true
   },
   "outputs": [
    {
     "name": "stdout",
     "output_type": "stream",
     "text": [
      "[[ 1.   2.9  4.   5.   7.2  8.7]\n",
      " [ 2.   3.   3.7  5.2  7.2  9.2]\n",
      " [ 3.   3.   4.   5.   7.1  8.9]\n",
      " [ 4.   3.   3.9  5.   7.1  9.1]\n",
      " [ 5.   2.9  3.9  5.   7.3  9. ]\n",
      " [ 6.   2.9  3.9  4.9  7.2  8.6]\n",
      " [ 7.   3.1  4.   5.1  7.2  9.2]\n",
      " [ 8.   2.9  4.   5.   6.9  9. ]\n",
      " [ 9.   3.   4.   5.1  7.2  9.3]\n",
      " [10.   2.9  4.1  5.1  6.6  9.1]\n",
      " [11.   3.   4.2  5.   7.3  9. ]]\n"
     ]
    }
   ],
   "source": [
    "input1 = np.loadtxt(\"ue01_bsp1.txt\")\n",
    "print(input1)"
   ]
  },
  {
   "cell_type": "markdown",
   "metadata": {},
   "source": [
    "### Gauss Markov Modell (A-Modell):\n",
    "\n",
    "$\\quad \\underbrace{y}_{m\\times 1} = \\underbrace{A}_{m\\times n} \\underbrace{x}_{n\\times 1} + \\underbrace{e}_{m\\times 1}$\n",
    "\n",
    "Aufstellen des Beobachtungsvektors y, der Designmatrix A, des Unbekanntenvektors x, der Residuen e und der Gewichtsmatrix P:\n",
    "\n",
    "$\\quad \\underbrace{y}_{5\\times 1} = \\left[\\begin{array}{r}\n",
    "m_1\\\\\n",
    "m_2\\\\\n",
    "m_3\\\\\n",
    "m_4\\\\\n",
    "m_5\\\\\n",
    "\\end{array}\\right] $ ,$\\quad$ $ \\underbrace{A}_{5\\times 3} = \\left[\\begin{array}{rrrrr}\n",
    "1 & 0 & 0\\\\\n",
    "0 & 1 & 0\\\\\n",
    "0 & 0 & 1\\\\\n",
    "1 & 1 & 0\\\\\n",
    "0 & 1 & 1\\\\\n",
    "\\end{array}\\right] $ ,$\\quad$ $ \\underbrace{x}_{3\\times 1} = \\left[\\begin{array}{r}\n",
    "\\overline{AB}\\\\\n",
    "\\overline{BC}\\\\\n",
    "\\overline{CD}\\\\\n",
    "\\end{array}\\right] $ ,$\\quad$ $ \\underbrace{e}_{5\\times 1} = \\left[\\begin{array}{r}\n",
    "e_1\\\\\n",
    "e_2\\\\\n",
    "e_3\\\\\n",
    "e_4\\\\\n",
    "e_5\\\\\n",
    "\\end{array}\\right] $ ,$\\quad$ $ \\underbrace{P}_{5\\times 5} = \\left[\\begin{array}{rrrr}\n",
    "0.1 & 0 & 0 & 0 & 0\\\\\n",
    "0 & 0.1 & 0 & 0 & 0\\\\\n",
    "0 & 0 & 0.1 & 0 & 0\\\\\n",
    "0 & 0 & 0 & 0.2 & 0\\\\\n",
    "0 & 0 & 0 & 0 & 0.2 \\\\\n",
    "\\end{array}\\right] $"
   ]
  },
  {
   "cell_type": "code",
   "execution_count": 275,
   "metadata": {
    "scrolled": false
   },
   "outputs": [
    {
     "name": "stdout",
     "output_type": "stream",
     "text": [
      "Erweiterte Koeffizientenmatrix [A|y]:\n",
      " [[1.  0.  0.  2.9]\n",
      " [0.  1.  0.  4. ]\n",
      " [0.  0.  1.  5. ]\n",
      " [1.  1.  0.  7.2]\n",
      " [0.  1.  1.  8.7]]\n",
      "\n",
      "Rang[A|y]\n",
      " 4 \n",
      "\n",
      "Rang[A]\n",
      " 3 \n",
      "\n",
      "y = \n",
      " [[2.9]\n",
      " [4. ]\n",
      " [5. ]\n",
      " [7.2]\n",
      " [8.7]] \n",
      "\n",
      "A = \n",
      " [[1 0 0]\n",
      " [0 1 0]\n",
      " [0 0 1]\n",
      " [1 1 0]\n",
      " [0 1 1]] \n",
      "\n",
      "P = \n",
      " [[0.1 0.  0.  0.  0. ]\n",
      " [0.  0.1 0.  0.  0. ]\n",
      " [0.  0.  0.1 0.  0. ]\n",
      " [0.  0.  0.  0.2 0. ]\n",
      " [0.  0.  0.  0.  0.2]] \n",
      "\n"
     ]
    }
   ],
   "source": [
    "m = 5\n",
    "n = 3\n",
    "y = input1[0,1:,] # Get First Row of imported Dateset\n",
    "y = y[:, np.newaxis] # For visual improvement -> [1x5] vector to [5x1]  \n",
    "A = np.matrix([[ 1, 0, 0], [ 0, 1, 0 ], [ 0, 0, 1 ], [ 1, 1, 0 ], [ 0, 1, 1 ]])\n",
    "P = np.diag([0.1,0.1,0.1,0.2,0.2])\n",
    "erw_matrix = np.append(A, y, axis=1)\n",
    "# Rang\n",
    "print('Erweiterte Koeffizientenmatrix [A|y]:\\n {}\\n'.format(erw_matrix))\n",
    "print('Rang[A|y]\\n {} \\n'.format(matrix_rank(erw_matrix)))\n",
    "print('Rang[A]\\n {} \\n'.format(matrix_rank(A)))\n",
    "\n",
    "# Print Matrices\n",
    "print('y = \\n {} \\n'.format(y))\n",
    "print('A = \\n {} \\n'.format(A))\n",
    "print('P = \\n {} \\n'.format(P))"
   ]
  },
  {
   "cell_type": "markdown",
   "metadata": {},
   "source": [
    "Berechne Schätzwerte $\\hat{x}, \\hat{y}, \\hat{e}$:\n",
    "\n",
    "$\\quad \\hat{x} = (A' P A)^{-1} A' P y$\n",
    "\n",
    "$\\quad \\hat{y} = A \\hat{x}$\n",
    "\n",
    "$\\quad \\hat{e} = y - \\hat{y}$"
   ]
  },
  {
   "cell_type": "code",
   "execution_count": 276,
   "metadata": {
    "scrolled": false
   },
   "outputs": [
    {
     "data": {
      "text/latex": [
       "$$\\hat{{x}}=$$"
      ],
      "text/plain": [
       "<IPython.core.display.Math object>"
      ]
     },
     "metadata": {},
     "output_type": "display_data"
    },
    {
     "name": "stdout",
     "output_type": "stream",
     "text": [
      "[[3.1]\n",
      " [4. ]\n",
      " [4.8]]\n"
     ]
    },
    {
     "data": {
      "text/latex": [
       "$$\\hat{{y}}=$$"
      ],
      "text/plain": [
       "<IPython.core.display.Math object>"
      ]
     },
     "metadata": {},
     "output_type": "display_data"
    },
    {
     "name": "stdout",
     "output_type": "stream",
     "text": [
      "[[3.1]\n",
      " [4. ]\n",
      " [4.8]\n",
      " [7.1]\n",
      " [8.8]]\n"
     ]
    },
    {
     "data": {
      "text/latex": [
       "$$\\hat{{e}}=$$"
      ],
      "text/plain": [
       "<IPython.core.display.Math object>"
      ]
     },
     "metadata": {},
     "output_type": "display_data"
    },
    {
     "name": "stdout",
     "output_type": "stream",
     "text": [
      "[[-2.0000e-01]\n",
      " [-8.8818e-16]\n",
      " [ 2.0000e-01]\n",
      " [ 1.0000e-01]\n",
      " [-1.0000e-01]]\n"
     ]
    }
   ],
   "source": [
    "x_hat = inv(np.transpose(A) @ P @ A) @ np.transpose(A) @ P @ y\n",
    "y_hat = A @ x_hat\n",
    "e_hat = y - y_hat\n",
    "\n",
    "# Print x_hat\n",
    "display(Math('\\hat{{x}}=')); \n",
    "print(x_hat)\n",
    "\n",
    "# Print y_hat\n",
    "display(Math('\\hat{{y}}=')); \n",
    "print(y_hat)\n",
    "\n",
    "# Print e_hat\n",
    "display(Math('\\hat{{e}}=')); \n",
    "print(e_hat)"
   ]
  },
  {
   "cell_type": "markdown",
   "metadata": {},
   "source": [
    "__Proben:__\n",
    "- Orthogonalitätsprobe: $A' P \\hat{e} = 0$\n",
    "- Hauptprobe: $\\hat{y}-A\\hat{x}= 0 $"
   ]
  },
  {
   "cell_type": "code",
   "execution_count": 277,
   "metadata": {
    "scrolled": false
   },
   "outputs": [
    {
     "name": "stdout",
     "output_type": "stream",
     "text": [
      "Orthogonalitätsprobe = \n",
      " [[-4.5103e-17]\n",
      " [-4.4409e-16]\n",
      " [-1.7694e-16]] \n",
      "\n",
      "Hauptprobe = \n",
      " [[0.]\n",
      " [0.]\n",
      " [0.]\n",
      " [0.]\n",
      " [0.]] \n",
      "\n"
     ]
    }
   ],
   "source": [
    "probe_ortho = np.transpose(A) @ P @ e_hat\n",
    "probe_haupt = y_hat - A @ x_hat\n",
    "\n",
    "# Print Orthogonalitätsprobe\n",
    "print('Orthogonalitätsprobe = \\n {} \\n'.format(probe_ortho))\n",
    "\n",
    "# Print Hauptprobe\n",
    "print('Hauptprobe = \\n {} \\n'.format(probe_haupt))"
   ]
  },
  {
   "cell_type": "markdown",
   "metadata": {},
   "source": [
    "__Stochastisches Modell:__\n",
    "- A posteriori Wert: $\\hat{\\sigma} = \\sqrt{\\frac{\\hat{e}' P \\hat{e}}{m-n}} $\n",
    "- Varianzen der geschätzten Parameter: $\\hat{\\sum}_{\\hat{x}} = \\hat{\\sigma}^2 N^{-1} = \\hat{\\sigma}^2 (A' P A)^{-1}$"
   ]
  },
  {
   "cell_type": "code",
   "execution_count": 278,
   "metadata": {
    "scrolled": false
   },
   "outputs": [
    {
     "data": {
      "text/latex": [
       "$$\\hat{\\sigma}=[[0.0775]]$$"
      ],
      "text/plain": [
       "<IPython.core.display.Math object>"
      ]
     },
     "metadata": {},
     "output_type": "display_data"
    },
    {
     "data": {
      "text/latex": [
       "$$\\hat{{\\sum}}_{\\hat{x}}=$$"
      ],
      "text/plain": [
       "<IPython.core.display.Math object>"
      ]
     },
     "metadata": {},
     "output_type": "display_data"
    },
    {
     "name": "stdout",
     "output_type": "stream",
     "text": [
      "[[ 0.4057 -0.2213  0.1475]\n",
      " [-0.2213  0.332  -0.2213]\n",
      " [ 0.1475 -0.2213  0.4057]]\n"
     ]
    },
    {
     "data": {
      "text/latex": [
       "$$\\hat{{\\sum}}_{\\hat{y}}=$$"
      ],
      "text/plain": [
       "<IPython.core.display.Math object>"
      ]
     },
     "metadata": {},
     "output_type": "display_data"
    },
    {
     "name": "stdout",
     "output_type": "stream",
     "text": [
      "[[ 0.4057 -0.2213  0.1475  0.1844 -0.0738]\n",
      " [-0.2213  0.332  -0.2213  0.1107  0.1107]\n",
      " [ 0.1475 -0.2213  0.4057 -0.0738  0.1844]\n",
      " [ 0.1844  0.1107 -0.0738  0.2951  0.0369]\n",
      " [-0.0738  0.1107  0.1844  0.0369  0.2951]]\n"
     ]
    }
   ],
   "source": [
    "sigma_hat_2 = np.sqrt((np.transpose(e_hat) @ P @ e_hat)/(m-n))\n",
    "\n",
    "varianz_x_hat = np.multiply(sigma_hat_2, inv(np.transpose(A) @ P @ A))\n",
    "varianz_y_hat = A @ varianz_x_hat @ np.transpose(A)\n",
    "\n",
    "display(Math('\\hat{{\\sigma}}={}'.format(sigma_hat_2)));\n",
    "display(Math('\\hat{{\\sum}}_{\\hat{x}}='));\n",
    "print(varianz_x_hat)\n",
    "display(Math('\\hat{{\\sum}}_{\\hat{y}}='));\n",
    "print(varianz_y_hat)"
   ]
  },
  {
   "cell_type": "markdown",
   "metadata": {},
   "source": [
    "Sequentielle Ausgleichung:"
   ]
  },
  {
   "cell_type": "code",
   "execution_count": null,
   "metadata": {
    "scrolled": false
   },
   "outputs": [],
   "source": []
  },
  {
   "cell_type": "markdown",
   "metadata": {},
   "source": [
    "## Aufgabe 2:"
   ]
  },
  {
   "cell_type": "code",
   "execution_count": 279,
   "metadata": {
    "scrolled": false
   },
   "outputs": [
    {
     "name": "stdout",
     "output_type": "stream",
     "text": [
      "[[ 1.   0.6  4.2 10.   4.5 14.1]\n",
      " [ 2.   1.5  4.   8.3  5.5 12.2]\n",
      " [ 3.   1.8  3.9  6.7  5.9 10.8]\n",
      " [ 4.   2.6  4.   5.7  6.7  9.9]\n",
      " [ 5.   2.8  3.9  5.3  7.3  9.1]\n",
      " [ 6.   3.   4.   4.8  7.3  9.2]\n",
      " [ 7.   2.8  4.   5.1  7.3  9.1]\n",
      " [ 8.   2.5  3.9  5.7  6.9  9.9]\n",
      " [ 9.   2.2  3.9  6.7  6.1 10.7]\n",
      " [10.   1.3  4.   8.1  5.4 11.9]\n",
      " [11.   0.6  3.9 10.2  4.6 13.9]]\n"
     ]
    }
   ],
   "source": [
    "input2 = np.loadtxt(\"ue01_bsp2.txt\")\n",
    "print(input2)"
   ]
  },
  {
   "cell_type": "markdown",
   "metadata": {},
   "source": [
    "## Aufgabe 3:"
   ]
  },
  {
   "cell_type": "markdown",
   "metadata": {},
   "source": [
    "## Aufgabe 4:"
   ]
  },
  {
   "cell_type": "markdown",
   "metadata": {},
   "source": [
    "$E = m\\cdot c^2$ \n",
    "\n",
    "$ \\text{Test}_{42} = \\mathrm{ \\LaTeX} $\n",
    "\n",
    "$ \\sqrt[42]{\\frac{13}{37}} $\n",
    "\n",
    "[Aufgabe-1](#Aufgabe-1)"
   ]
  },
  {
   "cell_type": "code",
   "execution_count": null,
   "metadata": {
    "scrolled": false
   },
   "outputs": [],
   "source": []
  },
  {
   "cell_type": "code",
   "execution_count": null,
   "metadata": {
    "scrolled": false
   },
   "outputs": [],
   "source": []
  },
  {
   "cell_type": "code",
   "execution_count": null,
   "metadata": {
    "scrolled": false
   },
   "outputs": [],
   "source": []
  }
 ],
 "metadata": {
  "kernelspec": {
   "display_name": "Python 3",
   "language": "python",
   "name": "python3"
  },
  "language_info": {
   "codemirror_mode": {
    "name": "ipython",
    "version": 3
   },
   "file_extension": ".py",
   "mimetype": "text/x-python",
   "name": "python",
   "nbconvert_exporter": "python",
   "pygments_lexer": "ipython3",
   "version": "3.7.0"
  }
 },
 "nbformat": 4,
 "nbformat_minor": 2
}
