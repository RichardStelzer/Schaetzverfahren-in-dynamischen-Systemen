{
 "cells": [
  {
   "cell_type": "markdown",
   "metadata": {},
   "source": [
    "# Schätzverfahren in dynamischen Systemen - Übung 1"
   ]
  },
  {
   "cell_type": "markdown",
   "metadata": {},
   "source": [
    "__Python-Bibliotheken__ einlesen:"
   ]
  },
  {
   "cell_type": "code",
   "execution_count": 295,
   "metadata": {
    "scrolled": false
   },
   "outputs": [],
   "source": [
    "import numpy as np\n",
    "import pandas as pd\n",
    "from numpy.linalg import inv\n",
    "from numpy.linalg import matrix_rank\n",
    "import matplotlib.pyplot as plt\n",
    "from IPython.display import display, Math\n",
    "np.set_printoptions(precision=5)\n"
   ]
  },
  {
   "cell_type": "markdown",
   "metadata": {},
   "source": [
    "<a id=\"Aufgabe-1\"></a>\n",
    "## Aufgabe 1:"
   ]
  },
  {
   "cell_type": "markdown",
   "metadata": {},
   "source": [
    "Unkorellierte Beobachtungen einlesen:\n",
    "***"
   ]
  },
  {
   "cell_type": "code",
   "execution_count": 296,
   "metadata": {
    "scrolled": true
   },
   "outputs": [],
   "source": [
    "input1 = np.loadtxt(\"ue01_bsp1.txt\")\n",
    "#print(input1)"
   ]
  },
  {
   "cell_type": "markdown",
   "metadata": {},
   "source": [
    "### Gauss Markov Modell (A-Modell):\n",
    "\n",
    "$\\quad \\underbrace{y}_{m\\times 1} = \\underbrace{A}_{m\\times n} \\underbrace{x}_{n\\times 1} + \\underbrace{e}_{m\\times 1}$\n",
    "\n",
    "Aufstellen des Beobachtungsvektors y, der Designmatrix A, des Unbekanntenvektors x, der Residuen e und der Gewichtsmatrix P:\n",
    "\n",
    "$\\quad \\underbrace{y}_{5\\times 1} = \\left[\\begin{array}{r}\n",
    "m_1\\\\\n",
    "m_2\\\\\n",
    "m_3\\\\\n",
    "m_4\\\\\n",
    "m_5\\\\\n",
    "\\end{array}\\right] $ ,$\\quad$ $ \\underbrace{A}_{5\\times 3} = \\left[\\begin{array}{rrrrr}\n",
    "1 & 0 & 0\\\\\n",
    "0 & 1 & 0\\\\\n",
    "0 & 0 & 1\\\\\n",
    "1 & 1 & 0\\\\\n",
    "0 & 1 & 1\\\\\n",
    "\\end{array}\\right] $ ,$\\quad$ $ \\underbrace{x}_{3\\times 1} = \\left[\\begin{array}{r}\n",
    "\\overline{AB}\\\\\n",
    "\\overline{BC}\\\\\n",
    "\\overline{CD}\\\\\n",
    "\\end{array}\\right] $ ,$\\quad$ $ \\underbrace{e}_{5\\times 1} = \\left[\\begin{array}{r}\n",
    "e_1\\\\\n",
    "e_2\\\\\n",
    "e_3\\\\\n",
    "e_4\\\\\n",
    "e_5\\\\\n",
    "\\end{array}\\right] $ ,$\\quad$ $ \\underbrace{P}_{5\\times 5} = \\left[\\begin{array}{rrrr}\n",
    "0.1 & 0 & 0 & 0 & 0\\\\\n",
    "0 & 0.1 & 0 & 0 & 0\\\\\n",
    "0 & 0 & 0.1 & 0 & 0\\\\\n",
    "0 & 0 & 0 & 0.2 & 0\\\\\n",
    "0 & 0 & 0 & 0 & 0.2 \\\\\n",
    "\\end{array}\\right] $\n",
    "\n",
    "Kleinste Quadrate Ausgleichung für die erste Epoche (t=0)"
   ]
  },
  {
   "cell_type": "code",
   "execution_count": 297,
   "metadata": {
    "scrolled": false
   },
   "outputs": [],
   "source": [
    "m = 5.0\n",
    "n = 3.0\n",
    "t = 0\n",
    "y = input1[t,1:,] # Get First Row of imported Dateset\n",
    "y = y[:, np.newaxis] # For visual improvement -> [1x5] vector to [5x1]  \n",
    "A = np.matrix([[ 1, 0, 0], [ 0, 1, 0 ], [ 0, 0, 1 ], [ 1, 1, 0 ], [ 0, 1, 1 ]])\n",
    "P = np.diag([0.1,0.1,0.1,0.2,0.2])\n",
    "#erw_matrix = np.append(A, y, axis=1)\n",
    "# Rang\n",
    "#print('Erweiterte Koeffizientenmatrix [A|y]:\\n {}\\n'.format(erw_matrix))\n",
    "#print('Rang[A|y]\\n {} \\n'.format(matrix_rank(erw_matrix)))\n",
    "#print('Rang[A]\\n {} \\n'.format(matrix_rank(A)))\n",
    "\n",
    "# Print Matrices\n",
    "#print('y = \\n {} \\n'.format(y))\n",
    "#print('A = \\n {} \\n'.format(A))\n",
    "#print('P = \\n {} \\n'.format(P))"
   ]
  },
  {
   "cell_type": "markdown",
   "metadata": {},
   "source": [
    "Berechne Schätzwerte $\\hat{x}, \\hat{y}, \\hat{e}$:\n",
    "\n",
    "$\\quad \\hat{x} = (A' P A)^{-1} A' P y$\n",
    "\n",
    "$\\quad \\hat{y} = A \\hat{x}$\n",
    "\n",
    "$\\quad \\hat{e} = y - \\hat{y}$"
   ]
  },
  {
   "cell_type": "code",
   "execution_count": 298,
   "metadata": {
    "scrolled": false
   },
   "outputs": [],
   "source": [
    "x_hat = inv(np.transpose(A) @ P @ A) @ np.transpose(A) @ P @ y\n",
    "y_hat = A @ x_hat\n",
    "e_hat = y - y_hat\n",
    "\n",
    "# Print x_hat\n",
    "#display(Math('\\hat{{x}}=')); \n",
    "#print(x_hat)\n",
    "\n",
    "# Print y_hat\n",
    "#display(Math('\\hat{{y}}=')); \n",
    "#print(y_hat)\n",
    "\n",
    "# Print e_hat\n",
    "#display(Math('\\hat{{e}}=')); \n",
    "#print(e_hat)"
   ]
  },
  {
   "cell_type": "markdown",
   "metadata": {},
   "source": [
    "__Proben:__\n",
    "- Orthogonalitätsprobe: $A' P \\hat{e} \\overset{!}{=} 0$\n",
    "- Hauptprobe: $\\hat{y}-A\\hat{x} \\overset{!}{=} 0 $"
   ]
  },
  {
   "cell_type": "code",
   "execution_count": 299,
   "metadata": {
    "scrolled": false
   },
   "outputs": [
    {
     "name": "stdout",
     "output_type": "stream",
     "text": [
      "Orthogonalitätsprobe = \n",
      " [[-4.51028e-17]\n",
      " [-4.44089e-16]\n",
      " [-1.76942e-16]] \n",
      "\n",
      "Hauptprobe = \n",
      " [[0.]\n",
      " [0.]\n",
      " [0.]\n",
      " [0.]\n",
      " [0.]] \n",
      "\n"
     ]
    }
   ],
   "source": [
    "probe_ortho = np.transpose(A) @ P @ e_hat\n",
    "probe_haupt = y_hat - A @ x_hat\n",
    "\n",
    "# Print Orthogonalitätsprobe\n",
    "print('Orthogonalitätsprobe = \\n {} \\n'.format(probe_ortho))\n",
    "\n",
    "# Print Hauptprobe\n",
    "print('Hauptprobe = \\n {} \\n'.format(probe_haupt))"
   ]
  },
  {
   "cell_type": "markdown",
   "metadata": {},
   "source": [
    "__Stochastisches Modell:__\n",
    "- A posteriori Wert: $\\hat{\\sigma}^2_0 = \\frac{\\hat{e}' P \\hat{e}}{m-n} $\n",
    "- Varianzen der geschätzten Parameter: $\\hat{\\sum}_{\\hat{x}} = \\hat{\\sigma}^2_0 N^{-1} = \\hat{\\sigma}^2_0 (A' P A)^{-1}$"
   ]
  },
  {
   "cell_type": "code",
   "execution_count": 300,
   "metadata": {
    "scrolled": false
   },
   "outputs": [
    {
     "data": {
      "text/latex": [
       "$$\\hat{\\sigma}=0.0060$$"
      ],
      "text/plain": [
       "<IPython.core.display.Math object>"
      ]
     },
     "metadata": {},
     "output_type": "display_data"
    },
    {
     "data": {
      "text/latex": [
       "$$\\hat{{\\sum}}_{\\hat{x}}=$$"
      ],
      "text/plain": [
       "<IPython.core.display.Math object>"
      ]
     },
     "metadata": {},
     "output_type": "display_data"
    },
    {
     "name": "stdout",
     "output_type": "stream",
     "text": [
      "[[ 0.03143 -0.01714  0.01143]\n",
      " [-0.01714  0.02571 -0.01714]\n",
      " [ 0.01143 -0.01714  0.03143]]\n"
     ]
    },
    {
     "data": {
      "text/latex": [
       "$$\\hat{{\\sum}}_{\\hat{y}}=$$"
      ],
      "text/plain": [
       "<IPython.core.display.Math object>"
      ]
     },
     "metadata": {},
     "output_type": "display_data"
    },
    {
     "name": "stdout",
     "output_type": "stream",
     "text": [
      "[[ 0.03143 -0.01714  0.01143  0.01429 -0.00571]\n",
      " [-0.01714  0.02571 -0.01714  0.00857  0.00857]\n",
      " [ 0.01143 -0.01714  0.03143 -0.00571  0.01429]\n",
      " [ 0.01429  0.00857 -0.00571  0.02286  0.00286]\n",
      " [-0.00571  0.00857  0.01429  0.00286  0.02286]]\n"
     ]
    }
   ],
   "source": [
    "s02 = np.asscalar((np.transpose(e_hat) @ P @ e_hat)/(m-n))\n",
    "\n",
    "Sxx = s02 * inv(np.transpose(A) @ P @ A)\n",
    "Syy = A @ Sxx @ np.transpose(A)\n",
    "\n",
    "display(Math('\\hat{{\\sigma}}={:.4f}'.format(s02)));\n",
    "display(Math('\\hat{{\\sum}}_{\\hat{x}}='));\n",
    "print(Sxx)\n",
    "display(Math('\\hat{{\\sum}}_{\\hat{y}}='));\n",
    "print(Syy)\n",
    "\n",
    "#some arrays which we use later for plotting\n",
    "time_array = np.arange(0,11)\n",
    "AB_array = np.zeros(11)\n",
    "BC_array = np.zeros(11)\n",
    "CD_array = np.zeros(11)\n",
    "sigmaAB = np.zeros(11)\n",
    "sigmaBC = np.zeros(11)\n",
    "sigmaCD = np.zeros(11)\n",
    "\n",
    "#store the results in the first array element\n",
    "time_array[0] = 0\n",
    "AB_array[0] = x_hat[0]\n",
    "BC_array[0] = x_hat[1]\n",
    "CD_array[0] = x_hat[2]\n",
    "sigmaAB[0] = np.sqrt(Sxx[0,0])\n",
    "sigmaBC[0] = np.sqrt(Sxx[1,1])\n",
    "sigmaCD[0] = np.sqrt(Sxx[2,2])"
   ]
  },
  {
   "cell_type": "markdown",
   "metadata": {},
   "source": [
    "Sequentielle Ausgleichung:"
   ]
  },
  {
   "cell_type": "code",
   "execution_count": 301,
   "metadata": {
    "scrolled": false
   },
   "outputs": [],
   "source": [
    "#processing the observations at t_k\n",
    "for t in np.arange(1,11):\n",
    "    #storing the \"old\" states and variances\n",
    "    x_hat_old = x_hat\n",
    "    s02_old = s02\n",
    "    Sxx_old = Sxx\n",
    "    \n",
    "    #processing the observations at t_k\n",
    "    A = A # Same Designmatrix A for each epoche\n",
    "    y = input1[t,1:,] # Get First Row of imported Dateset\n",
    "    y = y[:, np.newaxis] # For visual improvement -> [1x5] vector to [5x1]  \n",
    "    x_hat = x_hat_old + inv(s02_old * inv(Sxx_old) + np.transpose(A) @ P @ A) @ np.transpose(A) @ P @ (y-A @ x_hat_old)\n",
    "    dx_hat = x_hat - x_hat_old\n",
    "    y_hat = A @ x_hat\n",
    "    e_hat = y - y_hat\n",
    "    s02 = np.asscalar(1.0/(m-n) * (s02_old * (m-n + np.transpose(dx_hat) @ inv(Sxx_old) @ dx_hat) + np.transpose(e_hat) @ P @ e_hat))\n",
    "    Sxx = s02 * inv(s02_old * inv(Sxx_old) + np.transpose(A) @ P @ A)\n",
    "    \n",
    "    #probe_ortho = np.transpose(A) @ P @ e_hat\n",
    "    #probe_haupt = y_hat - A @ x_hat\n",
    "    # Print Orthogonalitätsprobe\n",
    "    #print('Orthogonalitätsprobe = \\n {} \\n'.format(probe_ortho))\n",
    "    # Print Hauptprobe\n",
    "    #print('Hauptprobe = \\n {} \\n'.format(probe_haupt))\n",
    "    \n",
    "    #storing the solution in the array which we will later use for plotting\n",
    "    time_array[t]=t\n",
    "    AB_array[t]=x_hat[0]\n",
    "    BC_array[t]=x_hat[1]\n",
    "    CD_array[t]=x_hat[2]\n",
    "    sigmaAB[t]=np.sqrt(Sxx[0,0])\n",
    "    sigmaBC[t]=np.sqrt(Sxx[1,1])\n",
    "    sigmaCD[t]=np.sqrt(Sxx[2,2])\n",
    "    \n",
    "    #print(\"--\")\n",
    "    #print(AB_array[t])\n",
    "    #print(BC_array[t])  \n",
    "    #print(CD_array[t])\n",
    "    #print(sigmaAB[t]) \n",
    "    #print(sigmaBC[t]) \n",
    "    #print(sigmaCD[t]) "
   ]
  },
  {
   "cell_type": "markdown",
   "metadata": {},
   "source": [
    "Die Abstände $\\overline{AB}$, $\\overline{BC}$ und $\\overline{CD}$, sowie deren formelle Fehler nach einer Epoche sowie nach 6 und 11 Epochen unter Einbeziehung der Messungen aller vorangegangenen Epochen."
   ]
  },
  {
   "cell_type": "code",
   "execution_count": 302,
   "metadata": {
    "scrolled": true
   },
   "outputs": [
    {
     "name": "stdout",
     "output_type": "stream",
     "text": [
      "\u001b[4m\u001b[1mEpoche 1:\n"
     ]
    },
    {
     "data": {
      "text/latex": [
       "$$\\hat{x}_\\overline{AB}=3.1000$$"
      ],
      "text/plain": [
       "<IPython.core.display.Math object>"
      ]
     },
     "metadata": {},
     "output_type": "display_data"
    },
    {
     "data": {
      "text/latex": [
       "$$\\hat{x}_\\overline{BC}=4.0000$$"
      ],
      "text/plain": [
       "<IPython.core.display.Math object>"
      ]
     },
     "metadata": {},
     "output_type": "display_data"
    },
    {
     "data": {
      "text/latex": [
       "$$\\hat{x}_\\overline{CD}=4.8000$$"
      ],
      "text/plain": [
       "<IPython.core.display.Math object>"
      ]
     },
     "metadata": {},
     "output_type": "display_data"
    },
    {
     "data": {
      "text/latex": [
       "$$\\hat{\\sigma}_{\\overline{AB}}=0.1773$$"
      ],
      "text/plain": [
       "<IPython.core.display.Math object>"
      ]
     },
     "metadata": {},
     "output_type": "display_data"
    },
    {
     "data": {
      "text/latex": [
       "$$\\hat{\\sigma}_{\\overline{BC}}=0.1604$$"
      ],
      "text/plain": [
       "<IPython.core.display.Math object>"
      ]
     },
     "metadata": {},
     "output_type": "display_data"
    },
    {
     "data": {
      "text/latex": [
       "$$\\hat{\\sigma}_{\\overline{CD}}=0.1773$$"
      ],
      "text/plain": [
       "<IPython.core.display.Math object>"
      ]
     },
     "metadata": {},
     "output_type": "display_data"
    },
    {
     "name": "stdout",
     "output_type": "stream",
     "text": [
      "\n",
      "\u001b[4m\u001b[1mEpoche 6:\n"
     ]
    },
    {
     "data": {
      "text/latex": [
       "$$\\hat{x}_\\overline{AB}=3.1087$$"
      ],
      "text/plain": [
       "<IPython.core.display.Math object>"
      ]
     },
     "metadata": {},
     "output_type": "display_data"
    },
    {
     "data": {
      "text/latex": [
       "$$\\hat{x}_\\overline{BC}=3.9952$$"
      ],
      "text/plain": [
       "<IPython.core.display.Math object>"
      ]
     },
     "metadata": {},
     "output_type": "display_data"
    },
    {
     "data": {
      "text/latex": [
       "$$\\hat{x}_\\overline{CD}=4.9532$$"
      ],
      "text/plain": [
       "<IPython.core.display.Math object>"
      ]
     },
     "metadata": {},
     "output_type": "display_data"
    },
    {
     "data": {
      "text/latex": [
       "$$\\hat{\\sigma}_{\\overline{AB}}=0.2125$$"
      ],
      "text/plain": [
       "<IPython.core.display.Math object>"
      ]
     },
     "metadata": {},
     "output_type": "display_data"
    },
    {
     "data": {
      "text/latex": [
       "$$\\hat{\\sigma}_{\\overline{BC}}=0.1922$$"
      ],
      "text/plain": [
       "<IPython.core.display.Math object>"
      ]
     },
     "metadata": {},
     "output_type": "display_data"
    },
    {
     "data": {
      "text/latex": [
       "$$\\hat{\\sigma}_{\\overline{CD}}=0.2125$$"
      ],
      "text/plain": [
       "<IPython.core.display.Math object>"
      ]
     },
     "metadata": {},
     "output_type": "display_data"
    },
    {
     "name": "stdout",
     "output_type": "stream",
     "text": [
      "\n",
      "\u001b[4m\u001b[1mEpoche 11:\n"
     ]
    },
    {
     "data": {
      "text/latex": [
       "$$\\hat{x}_\\overline{AB}=3.0502$$"
      ],
      "text/plain": [
       "<IPython.core.display.Math object>"
      ]
     },
     "metadata": {},
     "output_type": "display_data"
    },
    {
     "data": {
      "text/latex": [
       "$$\\hat{x}_\\overline{BC}=4.0247$$"
      ],
      "text/plain": [
       "<IPython.core.display.Math object>"
      ]
     },
     "metadata": {},
     "output_type": "display_data"
    },
    {
     "data": {
      "text/latex": [
       "$$\\hat{x}_\\overline{CD}=5.0017$$"
      ],
      "text/plain": [
       "<IPython.core.display.Math object>"
      ]
     },
     "metadata": {},
     "output_type": "display_data"
    },
    {
     "data": {
      "text/latex": [
       "$$\\hat{\\sigma}_{\\overline{AB}}=0.2277$$"
      ],
      "text/plain": [
       "<IPython.core.display.Math object>"
      ]
     },
     "metadata": {},
     "output_type": "display_data"
    },
    {
     "data": {
      "text/latex": [
       "$$\\hat{\\sigma}_{\\overline{BC}}=0.2059$$"
      ],
      "text/plain": [
       "<IPython.core.display.Math object>"
      ]
     },
     "metadata": {},
     "output_type": "display_data"
    },
    {
     "data": {
      "text/latex": [
       "$$\\hat{\\sigma}_{\\overline{CD}}=0.2277$$"
      ],
      "text/plain": [
       "<IPython.core.display.Math object>"
      ]
     },
     "metadata": {},
     "output_type": "display_data"
    }
   ],
   "source": [
    "# Epoche 1\n",
    "\n",
    "print('\\033[4m\\033[1m' \"Epoche 1:\")\n",
    "display(Math('\\hat{{x}}_\\overline{{AB}}={:.4f}'.format(AB_array[0])));\n",
    "display(Math('\\hat{{x}}_\\overline{{BC}}={:.4f}'.format(BC_array[0])));\n",
    "display(Math('\\hat{{x}}_\\overline{{CD}}={:.4f}'.format(CD_array[0])));\n",
    "display(Math('\\hat{{\\sigma}}_{{\\overline{{AB}}}}={:.4f}'.format(sigmaAB[0])));\n",
    "display(Math('\\hat{{\\sigma}}_{{\\overline{{BC}}}}={:.4f}'.format(sigmaBC[0])));\n",
    "display(Math('\\hat{{\\sigma}}_{{\\overline{{CD}}}}={:.4f}'.format(sigmaCD[0])));\n",
    "print('\\n\\033[4m\\033[1m' \"Epoche 6:\")\n",
    "display(Math('\\hat{{x}}_\\overline{{AB}}={:.4f}'.format(AB_array[5])));\n",
    "display(Math('\\hat{{x}}_\\overline{{BC}}={:.4f}'.format(BC_array[5])));\n",
    "display(Math('\\hat{{x}}_\\overline{{CD}}={:.4f}'.format(CD_array[5])));\n",
    "display(Math('\\hat{{\\sigma}}_{{\\overline{{AB}}}}={:.4f}'.format(sigmaAB[5])));\n",
    "display(Math('\\hat{{\\sigma}}_{{\\overline{{BC}}}}={:.4f}'.format(sigmaBC[5])));\n",
    "display(Math('\\hat{{\\sigma}}_{{\\overline{{CD}}}}={:.4f}'.format(sigmaCD[5])));\n",
    "print('\\n\\033[4m\\033[1m' \"Epoche 11:\")\n",
    "display(Math('\\hat{{x}}_\\overline{{AB}}={:.4f}'.format(AB_array[10])));\n",
    "display(Math('\\hat{{x}}_\\overline{{BC}}={:.4f}'.format(BC_array[10])));\n",
    "display(Math('\\hat{{x}}_\\overline{{CD}}={:.4f}'.format(CD_array[10])));\n",
    "display(Math('\\hat{{\\sigma}}_{{\\overline{{AB}}}}={:.4f}'.format(sigmaAB[10])));\n",
    "display(Math('\\hat{{\\sigma}}_{{\\overline{{BC}}}}={:.4f}'.format(sigmaBC[10])));\n",
    "display(Math('\\hat{{\\sigma}}_{{\\overline{{CD}}}}={:.4f}'.format(sigmaCD[10])));"
   ]
  },
  {
   "cell_type": "markdown",
   "metadata": {},
   "source": [
    "Plot der zeitlichen Veränderungen der Unbekannten $\\overline{AB}$, $\\overline{BC}$ und $\\overline{CD}$, sowie deren formelle Fehler."
   ]
  },
  {
   "cell_type": "code",
   "execution_count": 303,
   "metadata": {
    "scrolled": false
   },
   "outputs": [
    {
     "data": {
      "image/png": "[encoded data removed]",
      "text/plain": [
       "<Figure size 864x648 with 2 Axes>"
      ]
     },
     "metadata": {
      "needs_background": "light"
     },
     "output_type": "display_data"
    }
   ],
   "source": [
    "plt.figure(1,figsize=(12, 9))\n",
    "ax=plt.subplot(211)    \n",
    "plt.plot(time_array, AB_array, label='AB')\n",
    "plt.plot(time_array, BC_array, label='BC')\n",
    "plt.plot(time_array, CD_array, label='CD')\n",
    "ax.legend(loc='upper center', bbox_to_anchor=(0.85, 0.45))\n",
    "axes = plt.gca()\n",
    "axes.set_ylim([-1,6])\n",
    "plt.grid()\n",
    "plt.xlabel('# of epochs')\n",
    "plt.ylabel('estimated value')\n",
    "plt.subplot(212)\n",
    "plt.plot(time_array, sigmaAB, label='AB')\n",
    "plt.plot(time_array, sigmaBC, label='BC')\n",
    "plt.plot(time_array, sigmaCD, label='CD')\n",
    "plt.legend()\n",
    "plt.grid()\n",
    "plt.xlabel('# of epochs')\n",
    "plt.ylabel('formal error [1 sigma]')\n",
    "plt.show()"
   ]
  },
  {
   "cell_type": "markdown",
   "metadata": {},
   "source": [
    "## Aufgabe 2:"
   ]
  },
  {
   "cell_type": "code",
   "execution_count": 304,
   "metadata": {
    "scrolled": false
   },
   "outputs": [
    {
     "name": "stdout",
     "output_type": "stream",
     "text": [
      "[[ 1.   0.6  4.2 10.   4.5 14.1]\n",
      " [ 2.   1.5  4.   8.3  5.5 12.2]\n",
      " [ 3.   1.8  3.9  6.7  5.9 10.8]\n",
      " [ 4.   2.6  4.   5.7  6.7  9.9]\n",
      " [ 5.   2.8  3.9  5.3  7.3  9.1]\n",
      " [ 6.   3.   4.   4.8  7.3  9.2]\n",
      " [ 7.   2.8  4.   5.1  7.3  9.1]\n",
      " [ 8.   2.5  3.9  5.7  6.9  9.9]\n",
      " [ 9.   2.2  3.9  6.7  6.1 10.7]\n",
      " [10.   1.3  4.   8.1  5.4 11.9]\n",
      " [11.   0.6  3.9 10.2  4.6 13.9]]\n"
     ]
    }
   ],
   "source": [
    "input2 = np.loadtxt(\"ue01_bsp2.txt\")\n",
    "print(input2)"
   ]
  },
  {
   "cell_type": "code",
   "execution_count": 324,
   "metadata": {
    "scrolled": false
   },
   "outputs": [
    {
     "data": {
      "image/png": "[encoded data removed]",
      "text/plain": [
       "<Figure size 1080x648 with 2 Axes>"
      ]
     },
     "metadata": {
      "needs_background": "light"
     },
     "output_type": "display_data"
    }
   ],
   "source": [
    "# processing the observations at t=0\n",
    "m = 5.0\n",
    "n = 3.0\n",
    "t = 0\n",
    "y = input2[t,1:,] # Get First Row of imported Dateset\n",
    "y = y[:, np.newaxis] # For visual improvement -> [1x5] vector to [5x1]  \n",
    "A = np.matrix([[ 1, 0, 0], [ 0, 1, 0 ], [ 0, 0, 1 ], [ 1, 1, 0 ], [ 0, 1, 1 ]])\n",
    "P = np.diag([0.1,0.1,0.1,0.2,0.2])\n",
    "\n",
    "x_hat = inv(np.transpose(A) @ P @ A) @ np.transpose(A) @ P @ y\n",
    "y_hat = A @ x_hat\n",
    "e_hat = y - y_hat\n",
    "probe_ortho = np.transpose(A) @ P @ e_hat\n",
    "probe_haupt = y_hat - A @ x_hat\n",
    "# print Orthogonalitätsprobe\n",
    "#print('Orthogonalitätsprobe = \\n {} \\n'.format(probe_ortho))\n",
    "# print Hauptprobe\n",
    "#print('Hauptprobe = \\n {} \\n'.format(probe_haupt))\n",
    "\n",
    "# Ausgleichung\n",
    "s02 = np.asscalar((np.transpose(e_hat) @ P @ e_hat)/(m-n))\n",
    "\n",
    "Sxx = s02 * inv(np.transpose(A) @ P @ A)\n",
    "Syy = A @ Sxx @ np.transpose(A)\n",
    "\n",
    "#print(Sxx)\n",
    "#display(Math('\\hat{{\\sigma}}={}'.format(s02)));\n",
    "#display(Math('\\hat{{\\sum}}_{\\hat{x}}='));\n",
    "#print(Sxx)\n",
    "#display(Math('\\hat{{\\sum}}_{\\hat{y}}='));\n",
    "#print(Syy)\n",
    "\n",
    "#some arrays which we use later for plotting\n",
    "time_array = np.arange(0,11)\n",
    "AB_array = np.zeros(11)\n",
    "BC_array = np.zeros(11)\n",
    "CD_array = np.zeros(11)\n",
    "sigmaAB = np.zeros(11)\n",
    "sigmaBC = np.zeros(11)\n",
    "sigmaCD = np.zeros(11)\n",
    "AB_real = np.zeros(11)\n",
    "BC_real = np.zeros(11)\n",
    "CD_real = np.zeros(11)\n",
    "\n",
    "#store the results in the first array element\n",
    "time_array[0] = 0\n",
    "AB_array[0] = x_hat[0]\n",
    "BC_array[0] = x_hat[1]\n",
    "CD_array[0] = x_hat[2]\n",
    "sigmaAB[0] = np.sqrt(Sxx[0,0])\n",
    "sigmaBC[0] = np.sqrt(Sxx[1,1])\n",
    "sigmaCD[0] = np.sqrt(Sxx[2,2])\n",
    "#calculate real values and store the results in first array element\n",
    "AB_real[0] = 3-0.1*(0-6)**2\n",
    "CD_real[0] = 5+0.1*(0-6)**2\n",
    "\n",
    "#print(Sxx)\n",
    "#processing the observations at t_k\n",
    "for t in np.arange(1,11):\n",
    "    #storing the \"old\" states and variances\n",
    "    x_hat_old = x_hat\n",
    "    s02_old = s02\n",
    "    Sxx_old = Sxx\n",
    "    \n",
    "    #processing the observations at t_k\n",
    "    A = A # Same Designmatrix A for each epoche\n",
    "    y = input1[t,1:,] # Get First Row of imported Dateset\n",
    "    y = y[:, np.newaxis] # For visual improvement -> [1x5] vector to [5x1]  \n",
    "    x_hat = x_hat_old + inv(s02_old * inv(Sxx_old) + np.transpose(A) @ P @ A) @ np.transpose(A) @ P @ (y-A @ x_hat_old)\n",
    "    dx_hat = x_hat - x_hat_old\n",
    "    y_hat = A @ x_hat\n",
    "    e_hat = y - y_hat\n",
    "    s02 = np.asscalar(1.0/(m-n) * (s02_old * (m-n + np.transpose(dx_hat) @ inv(Sxx_old) @ dx_hat) + np.transpose(e_hat) @ P @ e_hat))\n",
    "    Sxx = s02 * inv(s02_old * inv(Sxx_old) + np.transpose(A) @ P @ A)\n",
    "    \n",
    "    #probe_ortho = np.transpose(A) @ P @ e_hat\n",
    "    #probe_haupt = y_hat - A @ x_hat\n",
    "    # Print Orthogonalitätsprobe\n",
    "    #print('Orthogonalitätsprobe = \\n {} \\n'.format(probe_ortho))\n",
    "    # Print Hauptprobe\n",
    "    #print('Hauptprobe = \\n {} \\n'.format(probe_haupt))\n",
    "    \n",
    "    #storing the solution in the array which we will later use for plotting\n",
    "    time_array[t]=t\n",
    "    AB_array[t]=x_hat[0]\n",
    "    BC_array[t]=x_hat[1]\n",
    "    CD_array[t]=x_hat[2]\n",
    "    sigmaAB[t]=np.sqrt(Sxx[0,0])\n",
    "    sigmaBC[t]=np.sqrt(Sxx[1,1])\n",
    "    sigmaCD[t]=np.sqrt(Sxx[2,2])\n",
    "    \n",
    "    # real values for AB and CD\n",
    "    AB_real[t] = 3-0.1*(t-6)**2\n",
    "    CD_real[t] = 5+0.1*(t-6)**2\n",
    "    \n",
    "# real value for BC\n",
    "BC_real = np.full((1, 11), 4.0)\n",
    "\n",
    "# plot\n",
    "plt.figure(1,figsize=(15, 9))\n",
    "ax=plt.subplot(211)    \n",
    "plt.plot(time_array, AB_array, label='$\\hat{x}_\\overline{AB}$')\n",
    "plt.plot(time_array, BC_array, label='$\\hat{x}_\\overline{BC}$')\n",
    "plt.plot(time_array, CD_array, label='$\\hat{x}_\\overline{CD}$')\n",
    "plt.plot(time_array, AB_real, label = 'real value $x_{AB}$')\n",
    "plt.plot(time_array, BC_real[0], label = 'real value $x_{BC}$')\n",
    "plt.plot(time_array, CD_real, label = 'real value $x_{CD}$')\n",
    "ax.legend(loc='upper center', bbox_to_anchor=(0.70, 1))\n",
    "axes = plt.gca()\n",
    "axes.set_ylim([-1,12])\n",
    "plt.grid()\n",
    "plt.xlabel('# of epochs')\n",
    "plt.ylabel('estimated value')\n",
    "ax2=plt.subplot(212)\n",
    "plt.plot(time_array, sigmaAB, label='$\\hat{\\sigma}_{\\overline{AB}}$')\n",
    "plt.plot(time_array, sigmaBC, label='$\\hat{\\sigma}_{\\overline{BC}}$')\n",
    "plt.plot(time_array, sigmaCD, label='$\\hat{\\sigma}_{\\overline{CD}}$')\n",
    "ax2.legend(loc='upper center', bbox_to_anchor=(0.89, 0.93))\n",
    "#plt.legend()\n",
    "plt.grid()\n",
    "plt.xlabel('# of epochs')\n",
    "plt.ylabel('formal error [1 sigma]')\n",
    "plt.show()"
   ]
  },
  {
   "cell_type": "markdown",
   "metadata": {},
   "source": [
    "Diskussion der Unterschiede und Beschreibung der zeitlichen Abhängigkeit der formellen Fehler:\n",
    "- Die Varianz der Strecke AB und der Strecke CD sind identisch, liegt daran, dass die Abweichung der Strecken an der x-Achse gespiegelt sind\n",
    "- AB entspricht einer nach unten geöffneten Parabel, wohingegen CD einer nach oben geöffneten Parabel entspricht\n",
    "- BC ist schnell ausgeglichen, da es sich um eine Konstante handelt (Real BC = 4)"
   ]
  },
  {
   "cell_type": "markdown",
   "metadata": {},
   "source": [
    "## Aufgabe 3:"
   ]
  },
  {
   "cell_type": "markdown",
   "metadata": {},
   "source": [
    "## Aufgabe 4:"
   ]
  },
  {
   "cell_type": "code",
   "execution_count": null,
   "metadata": {},
   "outputs": [],
   "source": []
  },
  {
   "cell_type": "markdown",
   "metadata": {},
   "source": [
    "$E = m\\cdot c^2$ \n",
    "\n",
    "$ \\text{Test}_{42} = \\mathrm{ \\LaTeX} $\n",
    "\n",
    "$ \\sqrt[42]{\\frac{13}{37}} $\n",
    "\n",
    "[Aufgabe-1](#Aufgabe-1)"
   ]
  },
  {
   "cell_type": "code",
   "execution_count": 306,
   "metadata": {
    "scrolled": false
   },
   "outputs": [
    {
     "name": "stdout",
     "output_type": "stream",
     "text": [
      "[-0.6  0.5  1.4  2.1  2.6  2.9  3.   2.9  2.6  2.1  1.4]\n",
      "[8.6 7.5 6.6 5.9 5.4 5.1 5.  5.1 5.4 5.9 6.6]\n"
     ]
    }
   ],
   "source": [
    "print(AB_real)\n",
    "print(CD_real)"
   ]
  },
  {
   "cell_type": "code",
   "execution_count": null,
   "metadata": {
    "scrolled": false
   },
   "outputs": [],
   "source": []
  },
  {
   "cell_type": "code",
   "execution_count": null,
   "metadata": {
    "scrolled": false
   },
   "outputs": [],
   "source": []
  }
 ],
 "metadata": {
  "kernelspec": {
   "display_name": "Python 3",
   "language": "python",
   "name": "python3"
  },
  "language_info": {
   "codemirror_mode": {
    "name": "ipython",
    "version": 3
   },
   "file_extension": ".py",
   "mimetype": "text/x-python",
   "name": "python",
   "nbconvert_exporter": "python",
   "pygments_lexer": "ipython3",
   "version": "3.7.0"
  }
 },
 "nbformat": 4,
 "nbformat_minor": 2
}
