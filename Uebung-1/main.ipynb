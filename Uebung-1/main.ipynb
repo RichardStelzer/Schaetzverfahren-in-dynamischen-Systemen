{
 "cells": [
  {
   "cell_type": "markdown",
   "metadata": {},
   "source": [
    "Unkorellierte Beobachtungen einlesen"
   ]
  },
  {
   "cell_type": "code",
   "execution_count": 1,
   "metadata": {},
   "outputs": [],
   "source": [
    "import numpy as np\n",
    "from numpy.linalg import inv\n",
    "import matplotlib.pyplot as plt"
   ]
  },
  {
   "cell_type": "markdown",
   "metadata": {},
   "source": [
    "Aufgabe 1:"
   ]
  },
  {
   "cell_type": "code",
   "execution_count": 29,
   "metadata": {
    "scrolled": false
   },
   "outputs": [
    {
     "name": "stdout",
     "output_type": "stream",
     "text": [
      "[[ 1.   2.9  4.   5.   7.2  8.7]\n",
      " [ 2.   3.   3.7  5.2  7.2  9.2]\n",
      " [ 3.   3.   4.   5.   7.1  8.9]\n",
      " [ 4.   3.   3.9  5.   7.1  9.1]\n",
      " [ 5.   2.9  3.9  5.   7.3  9. ]\n",
      " [ 6.   2.9  3.9  4.9  7.2  8.6]\n",
      " [ 7.   3.1  4.   5.1  7.2  9.2]\n",
      " [ 8.   2.9  4.   5.   6.9  9. ]\n",
      " [ 9.   3.   4.   5.1  7.2  9.3]\n",
      " [10.   2.9  4.1  5.1  6.6  9.1]\n",
      " [11.   3.   4.2  5.   7.3  9. ]]\n"
     ]
    }
   ],
   "source": [
    "input1 = np.loadtxt(\"ue01_bsp1.txt\")\n",
    "print(input1)"
   ]
  },
  {
   "cell_type": "markdown",
   "metadata": {},
   "source": [
    "Standardabweichungen:"
   ]
  },
  {
   "cell_type": "code",
   "execution_count": 30,
   "metadata": {},
   "outputs": [],
   "source": [
    "sigma_123 = 0.1\n",
    "sigma_45 = 0.2"
   ]
  },
  {
   "cell_type": "markdown",
   "metadata": {},
   "source": [
    "Sequentielle Ausgleichung:"
   ]
  },
  {
   "cell_type": "code",
   "execution_count": null,
   "metadata": {},
   "outputs": [],
   "source": []
  },
  {
   "cell_type": "markdown",
   "metadata": {},
   "source": [
    "Aufgabe 2:"
   ]
  },
  {
   "cell_type": "code",
   "execution_count": 31,
   "metadata": {},
   "outputs": [
    {
     "name": "stdout",
     "output_type": "stream",
     "text": [
      "[[ 1.   0.6  4.2 10.   4.5 14.1]\n",
      " [ 2.   1.5  4.   8.3  5.5 12.2]\n",
      " [ 3.   1.8  3.9  6.7  5.9 10.8]\n",
      " [ 4.   2.6  4.   5.7  6.7  9.9]\n",
      " [ 5.   2.8  3.9  5.3  7.3  9.1]\n",
      " [ 6.   3.   4.   4.8  7.3  9.2]\n",
      " [ 7.   2.8  4.   5.1  7.3  9.1]\n",
      " [ 8.   2.5  3.9  5.7  6.9  9.9]\n",
      " [ 9.   2.2  3.9  6.7  6.1 10.7]\n",
      " [10.   1.3  4.   8.1  5.4 11.9]\n",
      " [11.   0.6  3.9 10.2  4.6 13.9]]\n"
     ]
    }
   ],
   "source": [
    "input2 = np.loadtxt(\"ue01_bsp2.txt\")\n",
    "print(input2)"
   ]
  },
  {
   "cell_type": "code",
   "execution_count": null,
   "metadata": {},
   "outputs": [],
   "source": []
  }
 ],
 "metadata": {
  "kernelspec": {
   "display_name": "Python 3",
   "language": "python",
   "name": "python3"
  },
  "language_info": {
   "codemirror_mode": {
    "name": "ipython",
    "version": 3
   },
   "file_extension": ".py",
   "mimetype": "text/x-python",
   "name": "python",
   "nbconvert_exporter": "python",
   "pygments_lexer": "ipython3",
   "version": "3.7.0"
  }
 },
 "nbformat": 4,
 "nbformat_minor": 2
}
